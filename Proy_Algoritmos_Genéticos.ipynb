{
  "nbformat": 4,
  "nbformat_minor": 0,
  "metadata": {
    "colab": {
      "provenance": []
    },
    "kernelspec": {
      "name": "python3",
      "display_name": "Python 3"
    },
    "language_info": {
      "name": "python"
    }
  },
  "cells": [
    {
      "cell_type": "markdown",
      "source": [
        "#Algoritmos Genéticos\n",
        "\n",
        "Son llamados así porque se inspiran en la ***evolución biológica y su base genético-molecular***.\n",
        "\n",
        "\n",
        "\n",
        "\n",
        "Los algoritmos genéticos son estrategias de resolución de problemas de optimización basados en la **teoría de la selección natural de Darwin**, mediante la cual aquellos ***individuos más aptos para sobrevivir tienen una mayor probabilidad de crear descendencia y transmitir su información genética.***"
      ],
      "metadata": {
        "id": "mLsyeHN2MCHW"
      }
    },
    {
      "cell_type": "markdown",
      "source": [
        "![image.png](data:image/png;base64,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)"
      ],
      "metadata": {
        "id": "vmBPR8NEkKDM"
      }
    },
    {
      "cell_type": "markdown",
      "source": [
        "##1.Población\n",
        "\n",
        "\n",
        "¿Qué es la población? La población es un **conjunto de genes**.\n",
        "\n",
        "¿Qué es gen? es un **individuo** en la población\n"
      ],
      "metadata": {
        "id": "fkc2pB5WYM3o"
      }
    },
    {
      "cell_type": "code",
      "source": [
        "gen = 'Hello World!'\n",
        "Population = ('Hello World!', 'Hello Wordd!', 'Hello Morth!')"
      ],
      "metadata": {
        "id": "1c3ArUk7XoVF"
      },
      "execution_count": null,
      "outputs": []
    },
    {
      "cell_type": "markdown",
      "source": [
        "Entonces, ¿cómo crear o inicializar la población? simplemente cree una generación aleatoria y recójala, guárdela en una variable. Este es el código sobre cómo generar un nuevo gen aleatorio y recopilarlo en una población. El tipo de datos de la población es un dict, para matlab simplemente use struct. Antes de guardarlo en una población, debemos calcular la aptitud entre un gen y el objetivo. Si un gen coincide con el objetivo, el valor de aptitud es 100. Entonces, en la población tendremos un par de genes y su aptitud.\n",
        "\n",
        "\n"
      ],
      "metadata": {
        "id": "Gm2erBzXk-D3"
      }
    },
    {
      "cell_type": "code",
      "source": [
        "# generate new gen\n",
        "def create_gen(panjang_target):\n",
        "    random_number = np.random.randint(32, 126, size=panjang_target)\n",
        "    gen = ''.join([chr(i) for i in random_number])\n",
        "    return gen\n",
        "\n",
        "# calculate fitness of gen\n",
        "def calculate_fitness(gen, target, panjang_target):\n",
        "    fitness = 0\n",
        "    for i in range (panjang_target):\n",
        "        if gen[i:i+1] == target[i:i+1]:\n",
        "            fitness += 1\n",
        "    fitness = fitness / panjang_target * 100\n",
        "    return fitness\n",
        "\n",
        "# create population\n",
        "def create_population(target, max_population, panjang_target):\n",
        "    populasi = {}\n",
        "    for i in range(max_population):\n",
        "        gen = create_gen(panjang_target)\n",
        "        genfitness = calculate_fitness(gen, target, panjang_target)\n",
        "        populasi[gen] =  genfitness\n",
        "    return populasi"
      ],
      "metadata": {
        "id": "7pzSjlWCXpjv"
      },
      "execution_count": null,
      "outputs": []
    },
    {
      "cell_type": "markdown",
      "source": [
        "##2.Población\n",
        "\n",
        "\n",
        "> La selección es un proceso para elegir 2 mejores de una población.\n",
        "\n",
        "\n",
        "How to choose it? just check the fitness of each gen and choose 2 biggest in a population"
      ],
      "metadata": {
        "id": "285PoR9-YAJR"
      }
    },
    {
      "cell_type": "code",
      "source": [
        "# selection process\n",
        "def selection(populasi):\n",
        "    pop = dict(populasi)\n",
        "    parent = {}\n",
        "    for i in range(2):\n",
        "        gen = max(pop, key=pop.get)\n",
        "        genfitness = pop[gen]\n",
        "        parent[gen] = genfitness\n",
        "        if i == 0:\n",
        "            del pop[gen]\n",
        "    return parent"
      ],
      "metadata": {
        "id": "5rRUswZSX9fR"
      },
      "execution_count": null,
      "outputs": []
    },
    {
      "cell_type": "markdown",
      "source": [
        "##3. Crossover\n",
        "\n",
        "\n",
        "> El **\"crossover\"** consiste en realizar actividades sexuales entre dos padres elegidos en el proceso de selección.\n",
        "\n",
        "\n",
        "En este código, el proceso crossover realiza un proceso como este:"
      ],
      "metadata": {
        "id": "oIXPCvDZYUcQ"
      }
    },
    {
      "cell_type": "code",
      "source": [
        "parent1 = 'abcde12345'\n",
        "parent2 = '12345abcde'\n",
        "\n",
        "offspring1 = 'abcdeabcde'\n",
        "offspring2 = '1234512345'"
      ],
      "metadata": {
        "id": "kyalefI6YT5T"
      },
      "execution_count": null,
      "outputs": []
    },
    {
      "cell_type": "markdown",
      "source": [
        "la idea es obtener la última mitad total del carácter del padre1 y combinarla con la primera mitad total del carácter del padre2 y viceversa. El código completo de este proceso es así."
      ],
      "metadata": {
        "id": "MLV8vrs6mAWw"
      }
    },
    {
      "cell_type": "code",
      "source": [
        "# crossover\n",
        "def crossover(parent, target, panjang_target):\n",
        "    child = {}\n",
        "    cp = round(len(list(parent)[0])/2)\n",
        "    for i in range(2):\n",
        "        gen = list(parent)[i][:cp] + list(parent)[1-i][cp:]\n",
        "        genfitness = calculate_fitness(gen, target, panjang_target)\n",
        "        child[gen] = genfitness\n",
        "    return child"
      ],
      "metadata": {
        "id": "Zzy3Qgq_Yj4u"
      },
      "execution_count": null,
      "outputs": []
    },
    {
      "cell_type": "markdown",
      "source": [
        "##4. Mutation\n",
        "\n",
        "\n",
        "\n",
        "> El proceso de mutación es un operador genético utilizado para mantener la diversidad genética de una generación de una población de cromosomas de algoritmo genético a la siguiente.\n",
        "\n",
        "La idea es que debemos elegir la tasa de mutación y hacer un bucle para que cada personaje de una generación obtenga un número aleatorio. Si el número aleatorio es mayor que la tasa de mutación, en ese bucle el carácter será reemplazado por un carácter aleatorio.\n",
        "\n"
      ],
      "metadata": {
        "id": "VDFdy0L6YqL4"
      }
    },
    {
      "cell_type": "code",
      "source": [
        "# mutation\n",
        "def mutation(child, target, mutation_rate, panjang_target):\n",
        "    mutant = {}\n",
        "    for i in range(len(child)):\n",
        "        data = list(list(child)[i])\n",
        "        for j in range(len(data)):\n",
        "            if np.random.rand(1) <= mutation_rate:\n",
        "                ch = chr(np.random.randint(32, 126))\n",
        "                data[j] = ch\n",
        "        gen = ''.join(data)\n",
        "        genfitness = calculate_fitness(gen, target, panjang_target)\n",
        "        mutant[gen] = genfitness\n",
        "    return mutant"
      ],
      "metadata": {
        "id": "Rf7w59NNYt1e"
      },
      "execution_count": null,
      "outputs": []
    },
    {
      "cell_type": "markdown",
      "source": [
        "##5. Evaluation\n",
        "\n",
        "\n",
        "\n",
        "> El proceso de evaluación es comprobar qué valor de aptitud\n",
        "\n",
        "Si la idoneidad del proceso de mutación es igual al 100%, la suposición es la misma que la palabra objetivo y el proceso se detendrá."
      ],
      "metadata": {
        "id": "mxLNTvrMYyqy"
      }
    },
    {
      "cell_type": "code",
      "source": [
        "if bestfitness(mutant) >= 100:\n",
        "        break"
      ],
      "metadata": {
        "id": "6qq51MQ3muKP"
      },
      "execution_count": null,
      "outputs": []
    },
    {
      "cell_type": "markdown",
      "source": [
        "##6. Regeneration of Population\n",
        "\n",
        "\n",
        "\n",
        "> La regeneración es insertar un gen de un proceso de mutación en una población.\n",
        "\n",
        "En este proceso, el peor gen de una población se eliminará y se reemplazará con un nuevo gen procedente del proceso de mutación."
      ],
      "metadata": {
        "id": "Gt7eh3_9myGc"
      }
    },
    {
      "cell_type": "code",
      "source": [
        "# create new population with new best gen\n",
        "def regeneration(mutant, populasi):\n",
        "    for i in range(len(mutant)):\n",
        "        bad_gen = min(populasi, key=populasi.get)\n",
        "        del populasi[bad_gen]\n",
        "    populasi.update(mutant)\n",
        "    return populasi"
      ],
      "metadata": {
        "id": "zgig7F9oZdGm"
      },
      "execution_count": null,
      "outputs": []
    },
    {
      "cell_type": "code",
      "source": [
        "import numpy as np\n",
        "import datetime\n",
        "\n",
        "# generate new gen\n",
        "def create_gen(panjang_target):\n",
        "    random_number = np.random.randint(32, 126, size=panjang_target)\n",
        "    gen = ''.join([chr(i) for i in random_number])\n",
        "    return gen\n",
        "\n",
        "# calculate fitness of gen\n",
        "def calculate_fitness(gen, target, panjang_target):\n",
        "    fitness = 0\n",
        "    for i in range (panjang_target):\n",
        "        if gen[i:i+1] == target[i:i+1]:\n",
        "            fitness += 1\n",
        "    fitness = fitness / panjang_target * 100\n",
        "    return fitness\n",
        "\n",
        "# create population\n",
        "def create_population(target, max_population, panjang_target):\n",
        "    populasi = {}\n",
        "    for i in range(max_population):\n",
        "        gen = create_gen(panjang_target)\n",
        "        genfitness = calculate_fitness(gen, target, panjang_target)\n",
        "        populasi[gen] =  genfitness\n",
        "    return populasi\n",
        "\n",
        "# selection process\n",
        "def selection(populasi):\n",
        "    pop = dict(populasi)\n",
        "    parent = {}\n",
        "    for i in range(2):\n",
        "        gen = max(pop, key=pop.get)\n",
        "        genfitness = pop[gen]\n",
        "        parent[gen] = genfitness\n",
        "        if i == 0:\n",
        "            del pop[gen]\n",
        "    return parent\n",
        "\n",
        "# crossover\n",
        "def crossover(parent, target, panjang_target):\n",
        "    child = {}\n",
        "    cp = round(len(list(parent)[0])/2)\n",
        "    for i in range(2):\n",
        "        gen = list(parent)[i][:cp] + list(parent)[1-i][cp:]\n",
        "        genfitness = calculate_fitness(gen, target, panjang_target)\n",
        "        child[gen] = genfitness\n",
        "    return child\n",
        "\n",
        "# mutation\n",
        "def mutation(child, target, mutation_rate, panjang_target):\n",
        "    mutant = {}\n",
        "    for i in range(len(child)):\n",
        "        data = list(list(child)[i])\n",
        "        for j in range(len(data)):\n",
        "            if np.random.rand(1) <= mutation_rate:\n",
        "                ch = chr(np.random.randint(32, 126))\n",
        "                data[j] = ch\n",
        "        gen = ''.join(data)\n",
        "        genfitness = calculate_fitness(gen, target, panjang_target)\n",
        "        mutant[gen] = genfitness\n",
        "    return mutant\n",
        "\n",
        "# create new population with new best gen\n",
        "def regeneration(mutant, populasi):\n",
        "    for i in range(len(mutant)):\n",
        "        bad_gen = min(populasi, key=populasi.get)\n",
        "        del populasi[bad_gen]\n",
        "    populasi.update(mutant)\n",
        "    return populasi\n",
        "\n",
        "# get best gen in a population\n",
        "def bestgen(parent):\n",
        "    gen = max(parent, key=parent.get)\n",
        "    return gen\n",
        "\n",
        "# get best fitness in a population\n",
        "def bestfitness(parent):\n",
        "    fitness = parent[max(parent, key=parent.get)]\n",
        "    return fitness\n",
        "\n",
        "# display function\n",
        "def display(parent):\n",
        "    timeDiff=datetime.datetime.now()-startTime\n",
        "    print('{}\\t{}%\\t{}'.format(bestgen(parent), round(bestfitness(parent), 2), timeDiff))\n",
        "\n",
        "# main program\n",
        "target = 'Isabel Ruiz'\n",
        "max_population = 12\n",
        "mutation_rate = 0.1\n",
        "\n",
        "print('Target Word :', target)\n",
        "print('Max Population :', max_population)\n",
        "print('Mutation Rate :', mutation_rate)\n",
        "\n",
        "panjang_target = len(target)\n",
        "startTime=datetime.datetime.now()\n",
        "print('----------------------------------------------')\n",
        "print('{}\\t{}\\t{}'.format('The Best','Fitness','Time'))\n",
        "print('----------------------------------------------')\n",
        "populasi = create_population(target, int(max_population), panjang_target)\n",
        "parent = selection(populasi)\n",
        "\n",
        "display(parent)\n",
        "while 1:\n",
        "    child = crossover(parent, target, panjang_target)\n",
        "    mutant = mutation(child, target, float(mutation_rate), panjang_target)\n",
        "    if bestfitness(parent) >= bestfitness(mutant):\n",
        "        continue\n",
        "    populasi = regeneration(mutant, populasi)\n",
        "    parent = selection(populasi)\n",
        "    display(parent)\n",
        "    if bestfitness(mutant) >= 100:\n",
        "        break"
      ],
      "metadata": {
        "colab": {
          "base_uri": "https://localhost:8080/"
        },
        "id": "B9mBo3U6ZwzL",
        "outputId": "dca28b28-ee46-40aa-de45-01bbaffb602d"
      },
      "execution_count": null,
      "outputs": [
        {
          "output_type": "stream",
          "name": "stdout",
          "text": [
            "Target Word : Isabel Ruiz\n",
            "Max Population : 12\n",
            "Mutation Rate : 0.1\n",
            "----------------------------------------------\n",
            "The Best\tFitness\tTime\n",
            "----------------------------------------------\n",
            "da]Be3g=Xep\t9.09%\t0:00:00.000945\n",
            "da]Be3;4Wir\t18.18%\t0:00:00.001510\n",
            "da]Be3;RWi-\t27.27%\t0:00:00.016830\n",
            "da]be34RWi-\t36.36%\t0:00:00.027970\n",
            "Ia]Be34Rui-\t45.45%\t0:00:00.068652\n",
            "da]belJRui-\t54.55%\t0:00:00.192129\n",
            "daabel4Rui-\t63.64%\t0:00:00.219627\n",
            "d9abel Rui-\t72.73%\t0:00:00.257900\n",
            "daabel Ruiz\t81.82%\t0:00:00.575537\n",
            "I9abel Ruiz\t90.91%\t0:00:00.617175\n",
            "Isabel Ruiz\t100.0%\t0:00:00.679056\n"
          ]
        }
      ]
    }
  ]
}